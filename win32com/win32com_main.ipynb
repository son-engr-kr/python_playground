{
 "cells": [
  {
   "cell_type": "code",
   "execution_count": 16,
   "metadata": {},
   "outputs": [],
   "source": [
    "import win32com.client"
   ]
  },
  {
   "cell_type": "code",
   "execution_count": 17,
   "metadata": {},
   "outputs": [],
   "source": [
    "excel = win32com.client.Dispatch(\"Excel.Application\") #엑셀 프로그램 실행\n",
    "\n",
    "excel.Visible = True #앞으로 실행과정을 보이게"
   ]
  },
  {
   "cell_type": "markdown",
   "metadata": {},
   "source": [
    "## 파일을 열려면"
   ]
  },
  {
   "cell_type": "code",
   "execution_count": null,
   "metadata": {},
   "outputs": [],
   "source": [
    "#wb = excel.Workbooks.Open(r\"C:\\Users\\Desktop\\VS CODE\\Project\\17. win32com\\data.xlsx\")"
   ]
  },
  {
   "cell_type": "markdown",
   "metadata": {},
   "source": [
    "## 그냥 새 엑셀을 만드려면"
   ]
  },
  {
   "cell_type": "code",
   "execution_count": 18,
   "metadata": {},
   "outputs": [],
   "source": [
    "wb = excel.Workbooks.Add() #엑셀 프로그램에 Workbook 추가(객체 설정)"
   ]
  },
  {
   "cell_type": "code",
   "execution_count": 19,
   "metadata": {},
   "outputs": [],
   "source": [
    "ws = wb.Worksheets(\"sheet1\") #Worksheet 설정\n"
   ]
  },
  {
   "cell_type": "code",
   "execution_count": 26,
   "metadata": {},
   "outputs": [],
   "source": [
    "#셀 row, col 값 지정하여 값넣기(Range(\"A1\")과 동일 함)\n",
    "ws.cells(1,1).Value = \"test1\"\n",
    "\n",
    "#ragne로 값 넣기(Cell(1,2)와 동일함)\n",
    "ws.Range(\"A2\").Value = \"test2\"\n",
    "\n",
    "#range로 다중범위 지정해서 값 넣기1\n",
    "ws.Range(\"A3:C3\").Value = \"test3\"\n",
    "\n",
    "#range로 다중범위 지정해서 값 넣기2(위 코드와 동일 표현)\n",
    "ws.Range(ws.Cells(3,1), ws.Cells(5,3)).Value = \"test4\""
   ]
  },
  {
   "cell_type": "markdown",
   "metadata": {},
   "source": [
    "# Cell 선택"
   ]
  },
  {
   "cell_type": "code",
   "execution_count": 33,
   "metadata": {},
   "outputs": [
    {
     "data": {
      "text/plain": [
       "True"
      ]
     },
     "execution_count": 33,
     "metadata": {},
     "output_type": "execute_result"
    }
   ],
   "source": [
    "ws.Range(\"A1\").Select() # 단일 선택\n"
   ]
  },
  {
   "cell_type": "code",
   "execution_count": 34,
   "metadata": {},
   "outputs": [
    {
     "data": {
      "text/plain": [
       "True"
      ]
     },
     "execution_count": 34,
     "metadata": {},
     "output_type": "execute_result"
    }
   ],
   "source": [
    "ws.Range(\"A1,B2,C3\").Select() # 각각 선택"
   ]
  },
  {
   "cell_type": "code",
   "execution_count": 35,
   "metadata": {},
   "outputs": [
    {
     "data": {
      "text/plain": [
       "True"
      ]
     },
     "execution_count": 35,
     "metadata": {},
     "output_type": "execute_result"
    }
   ],
   "source": [
    "ws.Range(\"A2:B3\").Select() # \"영역 선택"
   ]
  },
  {
   "cell_type": "markdown",
   "metadata": {},
   "source": [
    "# 값 읽어오기"
   ]
  },
  {
   "cell_type": "code",
   "execution_count": 36,
   "metadata": {},
   "outputs": [
    {
     "data": {
      "text/plain": [
       "(('test2', None), ('test4', 'test4'))"
      ]
     },
     "execution_count": 36,
     "metadata": {},
     "output_type": "execute_result"
    }
   ],
   "source": [
    "ws.Range(\"A2:B3\").value"
   ]
  },
  {
   "cell_type": "markdown",
   "metadata": {},
   "source": [
    "((A2, B2), ('A3', 'B3'))"
   ]
  },
  {
   "cell_type": "markdown",
   "metadata": {},
   "source": [
    "# 저장"
   ]
  },
  {
   "cell_type": "code",
   "execution_count": 27,
   "metadata": {},
   "outputs": [],
   "source": [
    "# wb.SaveAs(r\"C:\\Users\\Desktop\\VS CODE\\Project\\17. win32com\\data.xlsx\")\n",
    "import os\n",
    "fileDir = os.path.dirname(os.path.realpath('__file__'))\n",
    "filename = os.path.join(fileDir, './text.xlsx')\n",
    "# wb.SaveAs(r\".\\test.xlsx\")#r: raw string ( back slash가 literal로 인식 )\n",
    "wb.SaveAs(filename)#r: raw string ( back slash가 literal로 인식 )"
   ]
  },
  {
   "cell_type": "markdown",
   "metadata": {},
   "source": [
    "# Reference\n",
    "\n",
    "- https://wikidocs.net/153820"
   ]
  },
  {
   "cell_type": "markdown",
   "metadata": {},
   "source": []
  }
 ],
 "metadata": {
  "kernelspec": {
   "display_name": ".venv",
   "language": "python",
   "name": "python3"
  },
  "language_info": {
   "codemirror_mode": {
    "name": "ipython",
    "version": 3
   },
   "file_extension": ".py",
   "mimetype": "text/x-python",
   "name": "python",
   "nbconvert_exporter": "python",
   "pygments_lexer": "ipython3",
   "version": "3.9.12"
  }
 },
 "nbformat": 4,
 "nbformat_minor": 2
}
